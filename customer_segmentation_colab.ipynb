{
 "cells": [
  {
   "cell_type": "markdown",
   "id": "492142c2",
   "metadata": {},
   "source": [
    "# Customer Segmentation using K-Means Clustering\n",
    "Segment customers based on behavior such as spending and frequency using unsupervised learning."
   ]
  },
  {
   "cell_type": "code",
   "execution_count": null,
   "id": "75fa0ad8",
   "metadata": {},
   "outputs": [],
   "source": [
    "\n",
    "import pandas as pd\n",
    "import numpy as np\n",
    "import matplotlib.pyplot as plt\n",
    "import seaborn as sns\n",
    "from sklearn.cluster import KMeans\n",
    "from sklearn.preprocessing import StandardScaler\n",
    "from sklearn.decomposition import PCA\n",
    "sns.set(style=\"whitegrid\")\n"
   ]
  },
  {
   "cell_type": "code",
   "execution_count": null,
   "id": "be288302",
   "metadata": {},
   "outputs": [],
   "source": [
    "\n",
    "# Simulate customer data\n",
    "np.random.seed(42)\n",
    "data = pd.DataFrame({\n",
    "    'Annual Income (k$)': np.random.normal(60, 15, 200).astype(int),\n",
    "    'Spending Score (1-100)': np.random.randint(1, 101, 200)\n",
    "})\n",
    "data.head()\n"
   ]
  },
  {
   "cell_type": "code",
   "execution_count": null,
   "id": "087073e3",
   "metadata": {},
   "outputs": [],
   "source": [
    "\n",
    "# Basic EDA\n",
    "print(data.describe())\n",
    "sns.scatterplot(x='Annual Income (k$)', y='Spending Score (1-100)', data=data)\n",
    "plt.title(\"Customer Distribution\")\n",
    "plt.savefig(\"customer_distribution.png\")\n",
    "plt.show()\n"
   ]
  },
  {
   "cell_type": "code",
   "execution_count": null,
   "id": "7dd98e4a",
   "metadata": {},
   "outputs": [],
   "source": [
    "\n",
    "scaler = StandardScaler()\n",
    "scaled_data = scaler.fit_transform(data)\n"
   ]
  },
  {
   "cell_type": "code",
   "execution_count": null,
   "id": "0a246fc3",
   "metadata": {},
   "outputs": [],
   "source": [
    "\n",
    "# Elbow Method to determine optimal k\n",
    "wcss = []\n",
    "for i in range(1, 11):\n",
    "    kmeans = KMeans(n_clusters=i, random_state=42)\n",
    "    kmeans.fit(scaled_data)\n",
    "    wcss.append(kmeans.inertia_)\n",
    "\n",
    "plt.plot(range(1, 11), wcss, marker='o')\n",
    "plt.xlabel('Number of clusters')\n",
    "plt.ylabel('WCSS')\n",
    "plt.title('Elbow Method')\n",
    "plt.savefig(\"elbow_method.png\")\n",
    "plt.show()\n"
   ]
  },
  {
   "cell_type": "code",
   "execution_count": null,
   "id": "bdf7e609",
   "metadata": {},
   "outputs": [],
   "source": [
    "\n",
    "# Apply KMeans with 4 clusters (from Elbow)\n",
    "kmeans = KMeans(n_clusters=4, random_state=42)\n",
    "clusters = kmeans.fit_predict(scaled_data)\n",
    "data['Cluster'] = clusters\n",
    "\n",
    "# Plot clusters\n",
    "sns.scatterplot(x='Annual Income (k$)', y='Spending Score (1-100)', hue='Cluster', palette='tab10', data=data)\n",
    "plt.title(\"Customer Segments\")\n",
    "plt.savefig(\"customer_segments.png\")\n",
    "plt.show()\n"
   ]
  },
  {
   "cell_type": "code",
   "execution_count": null,
   "id": "fab5f5ad",
   "metadata": {},
   "outputs": [],
   "source": [
    "\n",
    "# Reduce to 2D using PCA\n",
    "pca = PCA(n_components=2)\n",
    "reduced_data = pca.fit_transform(scaled_data)\n",
    "data['PCA1'] = reduced_data[:, 0]\n",
    "data['PCA2'] = reduced_data[:, 1]\n",
    "\n",
    "sns.scatterplot(x='PCA1', y='PCA2', hue='Cluster', palette='tab10', data=data)\n",
    "plt.title(\"Clusters Visualized with PCA\")\n",
    "plt.savefig(\"pca_clusters.png\")\n",
    "plt.show()\n"
   ]
  }
 ],
 "metadata": {},
 "nbformat": 4,
 "nbformat_minor": 5
}
